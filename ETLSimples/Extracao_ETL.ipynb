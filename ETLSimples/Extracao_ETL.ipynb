{
 "cells": [
  {
   "cell_type": "code",
   "execution_count": 45,
   "metadata": {},
   "outputs": [],
   "source": [
    "import requests\n",
    "import mysql.connector"
   ]
  },
  {
   "cell_type": "code",
   "execution_count": 46,
   "metadata": {},
   "outputs": [],
   "source": [
    "response = requests.get('https://api.tomticket.com/chamados/3872fa4810cef0376555c2b32ecc945d/1')\n",
    "retorno = response.json()\n",
    "chamados = retorno['data']"
   ]
  },
  {
   "cell_type": "code",
   "execution_count": 47,
   "metadata": {},
   "outputs": [],
   "source": [
    "db_config = {\n",
    "    \"host\": \"127.0.0.1\",\n",
    "    \"port\": \"3306\",\n",
    "    \"user\": \"root\",\n",
    "    \"password\": \"root\",\n",
    "    \"database\": \"etl\"\n",
    "}\n",
    "connection = mysql.connector.connect(**db_config)\n",
    "cursor = connection.cursor()"
   ]
  },
  {
   "cell_type": "code",
   "execution_count": 48,
   "metadata": {},
   "outputs": [],
   "source": [
    "for chamado in chamados:\n",
    "    idchamado = chamado.get(\"idchamado\")\n",
    "    protocolo = chamado.get(\"protocolo\")\n",
    "    titulo = chamado.get(\"titulo\")\n",
    "    mensagem = chamado.get(\"mensagem\")\n",
    "    nomecliente = chamado.get(\"nomecliente\")\n",
    "    ultimasituacao = chamado.get(\"ultimasituacao\")\n",
    "    dataultimasituacao = chamado.get(\"dataultimasituacao\")\n",
    "    descsituacao = chamado.get(\"descsituacao\")\n",
    "    categoria = chamado.get(\"categoria\")\n",
    "    departamento = chamado.get(\"departamento\")\n",
    "    atendente = chamado.get(\"atendente\")\n",
    "    id_cliente = chamado.get(\"id_cliente\")\n",
    "    nomeorganizacao = chamado.get(\"nomeorganizacao\")\n",
    "    \n",
    "    insert_query = \"INSERT INTO CHAMADOS (idchamado, protocolo, titulo, mensagem, nomecliente, ultimasituacao, dataultimasituacao, descsituacao, categoria, departamento, atendente, id_cliente, nomeorganizacao) VALUES (%s, %s, %s, %s, %s, %s, %s, %s, %s, %s, %s, %s, %s)\"\n",
    "    data = (idchamado, protocolo, titulo, mensagem, nomecliente, ultimasituacao, dataultimasituacao, descsituacao, categoria, departamento, atendente, id_cliente, nomeorganizacao)\n",
    "    cursor.execute(insert_query, data)\n",
    "    \n",
    "connection.commit()\n",
    "cursor.close()\n",
    "connection.close()"
   ]
  },
  {
   "cell_type": "code",
   "execution_count": null,
   "metadata": {},
   "outputs": [],
   "source": []
  }
 ],
 "metadata": {
  "kernelspec": {
   "display_name": "Python 3",
   "language": "python",
   "name": "python3"
  },
  "language_info": {
   "codemirror_mode": {
    "name": "ipython",
    "version": 3
   },
   "file_extension": ".py",
   "mimetype": "text/x-python",
   "name": "python",
   "nbconvert_exporter": "python",
   "pygments_lexer": "ipython3",
   "version": "3.12.0"
  }
 },
 "nbformat": 4,
 "nbformat_minor": 2
}
